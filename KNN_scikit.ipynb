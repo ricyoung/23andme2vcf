{
  "nbformat": 4,
  "nbformat_minor": 0,
  "metadata": {
    "colab": {
      "name": "Untitled9.ipynb",
      "provenance": [],
      "authorship_tag": "ABX9TyNuIhB6thuJzmmCsW9hJeM6",
      "include_colab_link": true
    },
    "kernelspec": {
      "name": "python3",
      "display_name": "Python 3"
    }
  },
  "cells": [
    {
      "cell_type": "markdown",
      "metadata": {
        "id": "view-in-github",
        "colab_type": "text"
      },
      "source": [
        "<a href=\"https://colab.research.google.com/github/ricyoung/23andme2vcf/blob/master/KNN_scikit.ipynb\" target=\"_parent\"><img src=\"https://colab.research.google.com/assets/colab-badge.svg\" alt=\"Open In Colab\"/></a>"
      ]
    },
    {
      "cell_type": "markdown",
      "metadata": {
        "id": "1aeGelnBpb7R",
        "colab_type": "text"
      },
      "source": [
        "# Basic KNNImputer for Missing Values"
      ]
    },
    {
      "cell_type": "code",
      "metadata": {
        "id": "nLNs1JXNpFlC",
        "colab_type": "code",
        "colab": {}
      },
      "source": [
        "import numpy as np\n",
        "import pandas as pd\n",
        "from sklearn.impute import KNNImputer\n",
        "dict = {'First':[100, 90, np.nan, 95], \n",
        "        'Second': [30, 45, 56, np.nan], \n",
        "        'Third':[np.nan, 40, 80, 98]} \n",
        "  \n",
        "# creating a dataframe from list \n",
        "df = pd.DataFrame(dict)"
      ],
      "execution_count": 0,
      "outputs": []
    },
    {
      "cell_type": "markdown",
      "metadata": {
        "id": "JGkJliUcpk36",
        "colab_type": "text"
      },
      "source": [
        "**Missing Values**"
      ]
    },
    {
      "cell_type": "code",
      "metadata": {
        "id": "LSHXu-EUpSpb",
        "colab_type": "code",
        "colab": {
          "base_uri": "https://localhost:8080/",
          "height": 166
        },
        "outputId": "6af28918-9870-4830-d579-d81e4bea1efc"
      },
      "source": [
        "df"
      ],
      "execution_count": 7,
      "outputs": [
        {
          "output_type": "execute_result",
          "data": {
            "text/html": [
              "<div>\n",
              "<style scoped>\n",
              "    .dataframe tbody tr th:only-of-type {\n",
              "        vertical-align: middle;\n",
              "    }\n",
              "\n",
              "    .dataframe tbody tr th {\n",
              "        vertical-align: top;\n",
              "    }\n",
              "\n",
              "    .dataframe thead th {\n",
              "        text-align: right;\n",
              "    }\n",
              "</style>\n",
              "<table border=\"1\" class=\"dataframe\">\n",
              "  <thead>\n",
              "    <tr style=\"text-align: right;\">\n",
              "      <th></th>\n",
              "      <th>First</th>\n",
              "      <th>Second</th>\n",
              "      <th>Third</th>\n",
              "    </tr>\n",
              "  </thead>\n",
              "  <tbody>\n",
              "    <tr>\n",
              "      <th>0</th>\n",
              "      <td>100.0</td>\n",
              "      <td>30.0</td>\n",
              "      <td>NaN</td>\n",
              "    </tr>\n",
              "    <tr>\n",
              "      <th>1</th>\n",
              "      <td>90.0</td>\n",
              "      <td>45.0</td>\n",
              "      <td>40.0</td>\n",
              "    </tr>\n",
              "    <tr>\n",
              "      <th>2</th>\n",
              "      <td>NaN</td>\n",
              "      <td>56.0</td>\n",
              "      <td>80.0</td>\n",
              "    </tr>\n",
              "    <tr>\n",
              "      <th>3</th>\n",
              "      <td>95.0</td>\n",
              "      <td>NaN</td>\n",
              "      <td>98.0</td>\n",
              "    </tr>\n",
              "  </tbody>\n",
              "</table>\n",
              "</div>"
            ],
            "text/plain": [
              "   First  Second  Third\n",
              "0  100.0    30.0    NaN\n",
              "1   90.0    45.0   40.0\n",
              "2    NaN    56.0   80.0\n",
              "3   95.0     NaN   98.0"
            ]
          },
          "metadata": {
            "tags": []
          },
          "execution_count": 7
        }
      ]
    },
    {
      "cell_type": "markdown",
      "metadata": {
        "id": "0t67Ns0Ip2vY",
        "colab_type": "text"
      },
      "source": [
        "Set Nearest Neighbors"
      ]
    },
    {
      "cell_type": "code",
      "metadata": {
        "id": "MAIs7guzpIXA",
        "colab_type": "code",
        "colab": {}
      },
      "source": [
        "imputer = KNNImputer(n_neighbors=3)"
      ],
      "execution_count": 0,
      "outputs": []
    },
    {
      "cell_type": "code",
      "metadata": {
        "id": "1nMu1up6pJsA",
        "colab_type": "code",
        "colab": {}
      },
      "source": [
        "df_filled = imputer.fit_transform(df)"
      ],
      "execution_count": 0,
      "outputs": []
    },
    {
      "cell_type": "markdown",
      "metadata": {
        "id": "qb9fHRZ1po8-",
        "colab_type": "text"
      },
      "source": [
        "**Scikit Imputer Does the work**"
      ]
    },
    {
      "cell_type": "code",
      "metadata": {
        "id": "kQZWZwaBpLSP",
        "colab_type": "code",
        "colab": {
          "base_uri": "https://localhost:8080/",
          "height": 87
        },
        "outputId": "b6711c8a-f504-489c-caa7-d960c51c1018"
      },
      "source": [
        "df_filled"
      ],
      "execution_count": 13,
      "outputs": [
        {
          "output_type": "execute_result",
          "data": {
            "text/plain": [
              "array([[100.        ,  30.        ,  72.66666667],\n",
              "       [ 90.        ,  45.        ,  40.        ],\n",
              "       [ 95.        ,  56.        ,  80.        ],\n",
              "       [ 95.        ,  43.66666667,  98.        ]])"
            ]
          },
          "metadata": {
            "tags": []
          },
          "execution_count": 13
        }
      ]
    },
    {
      "cell_type": "markdown",
      "metadata": {
        "id": "AuVinNc5pz1W",
        "colab_type": "text"
      },
      "source": [
        "https://datascienceplus.com/knnimputer-for-missing-value-imputation-in-python-using-scikit-learn/"
      ]
    }
  ]
}