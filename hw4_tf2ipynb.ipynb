{
  "nbformat": 4,
  "nbformat_minor": 0,
  "metadata": {
    "colab": {
      "name": "hw4_tf2ipynb",
      "provenance": [],
      "authorship_tag": "ABX9TyOfURE0B7c2wQ4Hn8GzL+WO",
      "include_colab_link": true
    },
    "kernelspec": {
      "name": "python3",
      "display_name": "Python 3"
    },
    "widgets": {
      "application/vnd.jupyter.widget-state+json": {
        "32f33562d4ef4cbf93a487244d8a22f9": {
          "model_module": "@jupyter-widgets/controls",
          "model_name": "HBoxModel",
          "state": {
            "_view_name": "HBoxView",
            "_dom_classes": [],
            "_model_name": "HBoxModel",
            "_view_module": "@jupyter-widgets/controls",
            "_model_module_version": "1.5.0",
            "_view_count": null,
            "_view_module_version": "1.5.0",
            "box_style": "",
            "layout": "IPY_MODEL_1a7d9d679847472dad39002f11151b2e",
            "_model_module": "@jupyter-widgets/controls",
            "children": [
              "IPY_MODEL_97d58918359b4268889a4da3d20922fd",
              "IPY_MODEL_ce08d13090184b419bc5db1573c12578"
            ]
          }
        },
        "1a7d9d679847472dad39002f11151b2e": {
          "model_module": "@jupyter-widgets/base",
          "model_name": "LayoutModel",
          "state": {
            "_view_name": "LayoutView",
            "grid_template_rows": null,
            "right": null,
            "justify_content": null,
            "_view_module": "@jupyter-widgets/base",
            "overflow": null,
            "_model_module_version": "1.2.0",
            "_view_count": null,
            "flex_flow": null,
            "width": null,
            "min_width": null,
            "border": null,
            "align_items": null,
            "bottom": null,
            "_model_module": "@jupyter-widgets/base",
            "top": null,
            "grid_column": null,
            "overflow_y": null,
            "overflow_x": null,
            "grid_auto_flow": null,
            "grid_area": null,
            "grid_template_columns": null,
            "flex": null,
            "_model_name": "LayoutModel",
            "justify_items": null,
            "grid_row": null,
            "max_height": null,
            "align_content": null,
            "visibility": null,
            "align_self": null,
            "height": null,
            "min_height": null,
            "padding": null,
            "grid_auto_rows": null,
            "grid_gap": null,
            "max_width": null,
            "order": null,
            "_view_module_version": "1.2.0",
            "grid_template_areas": null,
            "object_position": null,
            "object_fit": null,
            "grid_auto_columns": null,
            "margin": null,
            "display": null,
            "left": null
          }
        },
        "97d58918359b4268889a4da3d20922fd": {
          "model_module": "@jupyter-widgets/controls",
          "model_name": "IntProgressModel",
          "state": {
            "_view_name": "ProgressView",
            "style": "IPY_MODEL_9d42da82c5e3438bb4e86205576f715b",
            "_dom_classes": [],
            "description": "Dl Completed...: 100%",
            "_model_name": "IntProgressModel",
            "bar_style": "success",
            "max": 4,
            "_view_module": "@jupyter-widgets/controls",
            "_model_module_version": "1.5.0",
            "value": 4,
            "_view_count": null,
            "_view_module_version": "1.5.0",
            "orientation": "horizontal",
            "min": 0,
            "description_tooltip": null,
            "_model_module": "@jupyter-widgets/controls",
            "layout": "IPY_MODEL_b19e7aca15ac4006b1fcb92bf9b21497"
          }
        },
        "ce08d13090184b419bc5db1573c12578": {
          "model_module": "@jupyter-widgets/controls",
          "model_name": "HTMLModel",
          "state": {
            "_view_name": "HTMLView",
            "style": "IPY_MODEL_803f898b20e14fe4aaec2a99e9babe61",
            "_dom_classes": [],
            "description": "",
            "_model_name": "HTMLModel",
            "placeholder": "​",
            "_view_module": "@jupyter-widgets/controls",
            "_model_module_version": "1.5.0",
            "value": " 4/4 [07:30&lt;00:00, 112.58s/ file]",
            "_view_count": null,
            "_view_module_version": "1.5.0",
            "description_tooltip": null,
            "_model_module": "@jupyter-widgets/controls",
            "layout": "IPY_MODEL_8502a541be6f4df59bab7f4054bc876a"
          }
        },
        "9d42da82c5e3438bb4e86205576f715b": {
          "model_module": "@jupyter-widgets/controls",
          "model_name": "ProgressStyleModel",
          "state": {
            "_view_name": "StyleView",
            "_model_name": "ProgressStyleModel",
            "description_width": "initial",
            "_view_module": "@jupyter-widgets/base",
            "_model_module_version": "1.5.0",
            "_view_count": null,
            "_view_module_version": "1.2.0",
            "bar_color": null,
            "_model_module": "@jupyter-widgets/controls"
          }
        },
        "b19e7aca15ac4006b1fcb92bf9b21497": {
          "model_module": "@jupyter-widgets/base",
          "model_name": "LayoutModel",
          "state": {
            "_view_name": "LayoutView",
            "grid_template_rows": null,
            "right": null,
            "justify_content": null,
            "_view_module": "@jupyter-widgets/base",
            "overflow": null,
            "_model_module_version": "1.2.0",
            "_view_count": null,
            "flex_flow": null,
            "width": null,
            "min_width": null,
            "border": null,
            "align_items": null,
            "bottom": null,
            "_model_module": "@jupyter-widgets/base",
            "top": null,
            "grid_column": null,
            "overflow_y": null,
            "overflow_x": null,
            "grid_auto_flow": null,
            "grid_area": null,
            "grid_template_columns": null,
            "flex": null,
            "_model_name": "LayoutModel",
            "justify_items": null,
            "grid_row": null,
            "max_height": null,
            "align_content": null,
            "visibility": null,
            "align_self": null,
            "height": null,
            "min_height": null,
            "padding": null,
            "grid_auto_rows": null,
            "grid_gap": null,
            "max_width": null,
            "order": null,
            "_view_module_version": "1.2.0",
            "grid_template_areas": null,
            "object_position": null,
            "object_fit": null,
            "grid_auto_columns": null,
            "margin": null,
            "display": null,
            "left": null
          }
        },
        "803f898b20e14fe4aaec2a99e9babe61": {
          "model_module": "@jupyter-widgets/controls",
          "model_name": "DescriptionStyleModel",
          "state": {
            "_view_name": "StyleView",
            "_model_name": "DescriptionStyleModel",
            "description_width": "",
            "_view_module": "@jupyter-widgets/base",
            "_model_module_version": "1.5.0",
            "_view_count": null,
            "_view_module_version": "1.2.0",
            "_model_module": "@jupyter-widgets/controls"
          }
        },
        "8502a541be6f4df59bab7f4054bc876a": {
          "model_module": "@jupyter-widgets/base",
          "model_name": "LayoutModel",
          "state": {
            "_view_name": "LayoutView",
            "grid_template_rows": null,
            "right": null,
            "justify_content": null,
            "_view_module": "@jupyter-widgets/base",
            "overflow": null,
            "_model_module_version": "1.2.0",
            "_view_count": null,
            "flex_flow": null,
            "width": null,
            "min_width": null,
            "border": null,
            "align_items": null,
            "bottom": null,
            "_model_module": "@jupyter-widgets/base",
            "top": null,
            "grid_column": null,
            "overflow_y": null,
            "overflow_x": null,
            "grid_auto_flow": null,
            "grid_area": null,
            "grid_template_columns": null,
            "flex": null,
            "_model_name": "LayoutModel",
            "justify_items": null,
            "grid_row": null,
            "max_height": null,
            "align_content": null,
            "visibility": null,
            "align_self": null,
            "height": null,
            "min_height": null,
            "padding": null,
            "grid_auto_rows": null,
            "grid_gap": null,
            "max_width": null,
            "order": null,
            "_view_module_version": "1.2.0",
            "grid_template_areas": null,
            "object_position": null,
            "object_fit": null,
            "grid_auto_columns": null,
            "margin": null,
            "display": null,
            "left": null
          }
        }
      }
    }
  },
  "cells": [
    {
      "cell_type": "markdown",
      "metadata": {
        "id": "view-in-github",
        "colab_type": "text"
      },
      "source": [
        "<a href=\"https://colab.research.google.com/github/ricyoung/23andme2vcf/blob/master/hw4_tf2ipynb.ipynb\" target=\"_parent\"><img src=\"https://colab.research.google.com/assets/colab-badge.svg\" alt=\"Open In Colab\"/></a>"
      ]
    },
    {
      "cell_type": "code",
      "metadata": {
        "id": "CBskq6L5Kkne",
        "colab_type": "code",
        "colab": {}
      },
      "source": [
        "import tensorflow as tf\n",
        "import numpy as np\n",
        "import tensorflow_datasets as tfds\n"
      ],
      "execution_count": 0,
      "outputs": []
    },
    {
      "cell_type": "code",
      "metadata": {
        "id": "aTw9KiFGKkg1",
        "colab_type": "code",
        "colab": {}
      },
      "source": [
        ""
      ],
      "execution_count": 0,
      "outputs": []
    },
    {
      "cell_type": "code",
      "metadata": {
        "id": "04lkY-EmKken",
        "colab_type": "code",
        "colab": {}
      },
      "source": [
        ""
      ],
      "execution_count": 0,
      "outputs": []
    },
    {
      "cell_type": "code",
      "metadata": {
        "id": "y9211TcMKkcR",
        "colab_type": "code",
        "outputId": "a4d9b827-133f-4cfe-a7fd-c1e9fd548aef",
        "colab": {
          "base_uri": "https://localhost:8080/",
          "height": 205,
          "referenced_widgets": [
            "32f33562d4ef4cbf93a487244d8a22f9",
            "1a7d9d679847472dad39002f11151b2e",
            "97d58918359b4268889a4da3d20922fd",
            "ce08d13090184b419bc5db1573c12578",
            "9d42da82c5e3438bb4e86205576f715b",
            "b19e7aca15ac4006b1fcb92bf9b21497",
            "803f898b20e14fe4aaec2a99e9babe61",
            "8502a541be6f4df59bab7f4054bc876a"
          ]
        }
      },
      "source": [
        "mnist_dataset, mnist_info = tfds.load(name = 'mnist', with_info=True, as_supervised=True)\n",
        "\n"
      ],
      "execution_count": 0,
      "outputs": [
        {
          "output_type": "stream",
          "text": [
            "WARNING:absl:Dataset mnist is hosted on GCS. It will automatically be downloaded to your\n",
            "local data directory. If you'd instead prefer to read directly from our public\n",
            "GCS bucket (recommended if you're running on GCP), you can instead set\n",
            "data_dir=gs://tfds-data/datasets.\n",
            "\n"
          ],
          "name": "stderr"
        },
        {
          "output_type": "stream",
          "text": [
            "\u001b[1mDownloading and preparing dataset mnist/3.0.0 (download: 11.06 MiB, generated: Unknown size, total: 11.06 MiB) to /root/tensorflow_datasets/mnist/3.0.0...\u001b[0m\n"
          ],
          "name": "stdout"
        },
        {
          "output_type": "display_data",
          "data": {
            "application/vnd.jupyter.widget-view+json": {
              "model_id": "32f33562d4ef4cbf93a487244d8a22f9",
              "version_minor": 0,
              "version_major": 2
            },
            "text/plain": [
              "HBox(children=(IntProgress(value=0, description='Dl Completed...', max=4, style=ProgressStyle(description_widt…"
            ]
          },
          "metadata": {
            "tags": []
          }
        },
        {
          "output_type": "stream",
          "text": [
            "\n",
            "\n",
            "\u001b[1mDataset mnist downloaded and prepared to /root/tensorflow_datasets/mnist/3.0.0. Subsequent calls will reuse this data.\u001b[0m\n"
          ],
          "name": "stdout"
        }
      ]
    },
    {
      "cell_type": "code",
      "metadata": {
        "id": "-SQLmheRKkaB",
        "colab_type": "code",
        "outputId": "cd84cb54-f227-4834-b765-7e9d4a891803",
        "colab": {
          "base_uri": "https://localhost:8080/",
          "height": 451
        }
      },
      "source": [
        "print(mnist_info) "
      ],
      "execution_count": 0,
      "outputs": [
        {
          "output_type": "stream",
          "text": [
            "tfds.core.DatasetInfo(\n",
            "    name='mnist',\n",
            "    version=3.0.0,\n",
            "    description='The MNIST database of handwritten digits.',\n",
            "    homepage='http://yann.lecun.com/exdb/mnist/',\n",
            "    features=FeaturesDict({\n",
            "        'image': Image(shape=(28, 28, 1), dtype=tf.uint8),\n",
            "        'label': ClassLabel(shape=(), dtype=tf.int64, num_classes=10),\n",
            "    }),\n",
            "    total_num_examples=70000,\n",
            "    splits={\n",
            "        'test': 10000,\n",
            "        'train': 60000,\n",
            "    },\n",
            "    supervised_keys=('image', 'label'),\n",
            "    citation=\"\"\"@article{lecun2010mnist,\n",
            "      title={MNIST handwritten digit database},\n",
            "      author={LeCun, Yann and Cortes, Corinna and Burges, CJ},\n",
            "      journal={ATT Labs [Online]. Available: http://yann. lecun. com/exdb/mnist},\n",
            "      volume={2},\n",
            "      year={2010}\n",
            "    }\"\"\",\n",
            "    redistribution_info=,\n",
            ")\n",
            "\n"
          ],
          "name": "stdout"
        }
      ]
    },
    {
      "cell_type": "code",
      "metadata": {
        "id": "XNOv1Iq5KkUw",
        "colab_type": "code",
        "colab": {}
      },
      "source": [
        "# one hot encode for 10 MNIST classes\n",
        "def my_one_hot(feature, label):\n",
        "    return feature, tf.one_hot(label, depth=10)\n",
        "\n",
        "# load your data from tfds\n",
        "mnist_train, train_info = tfds.load(name=\"mnist\", with_info=True, as_supervised=True, split=tfds.Split.TRAIN)\n",
        "\n",
        "# convert your labels in one-hot\n",
        "mnist_train = mnist_train.map(my_one_hot)\n",
        "\n",
        "# you can batch your data here\n",
        "# mnist_train = mnist_train.batch(8)"
      ],
      "execution_count": 0,
      "outputs": []
    },
    {
      "cell_type": "code",
      "metadata": {
        "id": "jOp2029mpJA7",
        "colab_type": "code",
        "colab": {}
      },
      "source": [
        "# batch_size=-1 to get the full dataset in NumPy arrays from the returned tf.Tensor object\n",
        "\n",
        "\n",
        "mnist_train = tfds.load(name=\"mnist\", split=tfds.Split.TRAIN, batch_size=-1 ) \n",
        "mnist_test = tfds.load(name=\"mnist\", split=tfds.Split.TEST, batch_size=-1)"
      ],
      "execution_count": 0,
      "outputs": []
    },
    {
      "cell_type": "code",
      "metadata": {
        "id": "mlG7fZ6hKkRy",
        "colab_type": "code",
        "colab": {}
      },
      "source": [
        "\n",
        "\n",
        "# tfds.as_numpy return a generator that yields NumPy array records out of a tf.data.Dataset\n",
        "mnist_train = tfds.as_numpy(mnist_train) \n",
        "mnist_test = tfds.as_numpy(mnist_test)\n",
        "\n",
        "\n",
        "\n"
      ],
      "execution_count": 0,
      "outputs": []
    },
    {
      "cell_type": "code",
      "metadata": {
        "id": "86y3rP3upGem",
        "colab_type": "code",
        "colab": {}
      },
      "source": [
        "x_train, y_train = mnist_train[\"image\"], mnist_train[\"label\"] # seperate the x and y\n",
        "x_test, y_test = mnist_test[\"image\"], mnist_test[\"label\"]"
      ],
      "execution_count": 0,
      "outputs": []
    },
    {
      "cell_type": "code",
      "metadata": {
        "id": "nXcV_mmqSPBc",
        "colab_type": "code",
        "colab": {}
      },
      "source": [
        "from sklearn.model_selection import KFold\n",
        "from sklearn.metrics import confusion_matrix, accuracy_score"
      ],
      "execution_count": 0,
      "outputs": []
    },
    {
      "cell_type": "code",
      "metadata": {
        "id": "miwtO_RnSO9O",
        "colab_type": "code",
        "outputId": "48d2cbd2-cd72-4bdd-bcf2-3f07365845ef",
        "colab": {
          "base_uri": "https://localhost:8080/",
          "height": 35
        }
      },
      "source": [
        "# kf = KFold(n_splits=10, shuffle=True )\n",
        "# kf.get_n_splits(x_train)"
      ],
      "execution_count": 0,
      "outputs": [
        {
          "output_type": "execute_result",
          "data": {
            "text/plain": [
              "10"
            ]
          },
          "metadata": {
            "tags": []
          },
          "execution_count": 14
        }
      ]
    },
    {
      "cell_type": "code",
      "metadata": {
        "id": "7sWorgRjSO6Y",
        "colab_type": "code",
        "outputId": "e672caa3-3e6b-4725-fc22-359195dc7936",
        "colab": {
          "base_uri": "https://localhost:8080/",
          "height": 35
        }
      },
      "source": [
        "# print(kf)"
      ],
      "execution_count": 0,
      "outputs": [
        {
          "output_type": "stream",
          "text": [
            "KFold(n_splits=10, random_state=None, shuffle=True)\n"
          ],
          "name": "stdout"
        }
      ]
    },
    {
      "cell_type": "code",
      "metadata": {
        "id": "bEIeCg2LSOyF",
        "colab_type": "code",
        "outputId": "4966edcb-c78a-46d2-8290-ab0cf81084f4",
        "colab": {
          "base_uri": "https://localhost:8080/",
          "height": 191
        }
      },
      "source": [
        "# This doesn't work \n",
        "\n",
        "# for train_index, test_index in kf.split(x_train):\n",
        "#   print(\"TRAIN:\", train_index, \"TEST:\", test_index) \n",
        "  # X_train, X_test =x_train[train_index], x_train[test_index]\n"
      ],
      "execution_count": 0,
      "outputs": [
        {
          "output_type": "stream",
          "text": [
            "TRAIN: [    0     1     2 ... 59997 59998 59999] TEST: [    5    25    29 ... 59971 59976 59987]\n",
            "TRAIN: [    0     1     2 ... 59997 59998 59999] TEST: [    3    14    18 ... 59968 59992 59993]\n",
            "TRAIN: [    0     1     2 ... 59997 59998 59999] TEST: [   11    12    13 ... 59983 59984 59988]\n",
            "TRAIN: [    0     1     2 ... 59997 59998 59999] TEST: [    7    36    37 ... 59961 59975 59985]\n",
            "TRAIN: [    0     1     2 ... 59997 59998 59999] TEST: [    9    22    23 ... 59965 59980 59982]\n",
            "TRAIN: [    3     4     5 ... 59996 59997 59998] TEST: [    0     1     2 ... 59956 59995 59999]\n",
            "TRAIN: [    0     1     2 ... 59995 59998 59999] TEST: [    6     8    20 ... 59986 59996 59997]\n",
            "TRAIN: [    0     1     2 ... 59997 59998 59999] TEST: [   19    30    33 ... 59966 59974 59991]\n",
            "TRAIN: [    0     1     2 ... 59997 59998 59999] TEST: [    4    24    31 ... 59978 59989 59994]\n",
            "TRAIN: [    0     1     2 ... 59996 59997 59999] TEST: [   21    27    42 ... 59973 59990 59998]\n"
          ],
          "name": "stdout"
        }
      ]
    },
    {
      "cell_type": "code",
      "metadata": {
        "id": "VUa932AMMlLJ",
        "colab_type": "code",
        "colab": {}
      },
      "source": [
        "#k-fold - split data index into 10parts\n",
        "batch = []\n",
        "for i in range (10):\n",
        "    batch.append([])\n",
        "    for j in range (len(x_train)):\n",
        "        if j%10 == i:\n",
        "            batch[i].append(x_train[j])\n"
      ],
      "execution_count": 0,
      "outputs": []
    },
    {
      "cell_type": "code",
      "metadata": {
        "id": "OS8Eaj5PPIDm",
        "colab_type": "code",
        "outputId": "01d58853-98b6-4166-a3f5-97b155daf1ba",
        "colab": {
          "base_uri": "https://localhost:8080/",
          "height": 35
        }
      },
      "source": [
        ""
      ],
      "execution_count": 0,
      "outputs": [
        {
          "output_type": "stream",
          "text": [
            "<class 'tensorflow.python.data.ops.dataset_ops.FlatMapDataset'>\n"
          ],
          "name": "stdout"
        }
      ]
    },
    {
      "cell_type": "code",
      "metadata": {
        "id": "f2YHSRNoKigL",
        "colab_type": "code",
        "outputId": "3264d0ae-017c-4d9e-a9f8-a1f45e096b7b",
        "colab": {
          "base_uri": "https://localhost:8080/",
          "height": 1000
        }
      },
      "source": [
        "# for train_index, test_index in kf.split(x_train):\n",
        "for i in range(len(batch)):\n",
        "    #reduces to 0-1 from 0-255\n",
        "    #this may not have much of a change on the output\n",
        "    x_train = tf.keras.utils.normalize(x_train, axis=1)\n",
        "    x_test = tf.keras.utils.normalize(x_test, axis=1)\n",
        "\n",
        "    #Using sequential model with 2 layered neural network with each having 128 neurons\n",
        "    model = tf.keras.models.Sequential()\n",
        "    model.add(tf.keras.layers.Flatten())\n",
        "    model.add(tf.keras.layers.Dense(512, activation=tf.nn.relu))\n",
        "    model.add(tf.keras.layers.Dense(256, activation=tf.nn.relu))\n",
        "    model.add(tf.keras.layers.Dense(128, activation=tf.nn.relu))\n",
        "    model.add(tf.keras.layers.Dense(10, activation=tf.nn.softmax))\n",
        "\n",
        "    model.compile(optimizer= 'adam',\n",
        "                  \n",
        "                  loss='sparse_categorical_crossentropy',\n",
        "                  metrics=['accuracy'])\n",
        "\n",
        "    model.fit(x_train, y_train, epochs=6)\n",
        "\n",
        "    val_loss, val_acc = model.evaluate(x_test, y_test)\n",
        "    print(i)\n",
        "    print(val_acc, val_loss)"
      ],
      "execution_count": 0,
      "outputs": [
        {
          "output_type": "stream",
          "text": [
            "Epoch 1/6\n",
            "1875/1875 [==============================] - 10s 5ms/step - loss: 0.2099 - accuracy: 0.9368\n",
            "Epoch 2/6\n",
            "1875/1875 [==============================] - 10s 6ms/step - loss: 0.0869 - accuracy: 0.9731\n",
            "Epoch 3/6\n",
            "1875/1875 [==============================] - 10s 6ms/step - loss: 0.0597 - accuracy: 0.9815\n",
            "Epoch 4/6\n",
            "1875/1875 [==============================] - 10s 5ms/step - loss: 0.0439 - accuracy: 0.9855\n",
            "Epoch 5/6\n",
            "1875/1875 [==============================] - 10s 5ms/step - loss: 0.0356 - accuracy: 0.9883\n",
            "Epoch 6/6\n",
            "1875/1875 [==============================] - 10s 5ms/step - loss: 0.0294 - accuracy: 0.9910\n",
            "313/313 [==============================] - 1s 2ms/step - loss: 0.1066 - accuracy: 0.9727\n",
            "0\n",
            "0.9726999998092651 0.10661064833402634\n",
            "Epoch 1/6\n",
            "1875/1875 [==============================] - 10s 5ms/step - loss: 0.2111 - accuracy: 0.9353\n",
            "Epoch 2/6\n",
            "1875/1875 [==============================] - 10s 5ms/step - loss: 0.0878 - accuracy: 0.9725\n",
            "Epoch 3/6\n",
            "1875/1875 [==============================] - 10s 6ms/step - loss: 0.0590 - accuracy: 0.9813\n",
            "Epoch 4/6\n",
            "1875/1875 [==============================] - 10s 5ms/step - loss: 0.0452 - accuracy: 0.9852\n",
            "Epoch 5/6\n",
            "1875/1875 [==============================] - 10s 6ms/step - loss: 0.0341 - accuracy: 0.9890\n",
            "Epoch 6/6\n",
            "1875/1875 [==============================] - 10s 5ms/step - loss: 0.0303 - accuracy: 0.9904\n",
            "313/313 [==============================] - 1s 2ms/step - loss: 0.0861 - accuracy: 0.9786\n",
            "1\n",
            "0.978600025177002 0.08611096441745758\n",
            "Epoch 1/6\n",
            "1875/1875 [==============================] - 10s 5ms/step - loss: 0.2118 - accuracy: 0.9347\n",
            "Epoch 2/6\n",
            "1875/1875 [==============================] - 10s 5ms/step - loss: 0.0863 - accuracy: 0.9734\n",
            "Epoch 3/6\n",
            "1875/1875 [==============================] - 10s 5ms/step - loss: 0.0605 - accuracy: 0.9805\n",
            "Epoch 4/6\n",
            "1875/1875 [==============================] - 10s 5ms/step - loss: 0.0423 - accuracy: 0.9864\n",
            "Epoch 5/6\n",
            "1875/1875 [==============================] - 10s 5ms/step - loss: 0.0343 - accuracy: 0.9892\n",
            "Epoch 6/6\n",
            "1875/1875 [==============================] - 10s 6ms/step - loss: 0.0282 - accuracy: 0.9914\n",
            "313/313 [==============================] - 1s 2ms/step - loss: 0.1011 - accuracy: 0.9742\n",
            "2\n",
            "0.9742000102996826 0.10110718011856079\n",
            "Epoch 1/6\n",
            "1875/1875 [==============================] - 10s 6ms/step - loss: 0.2116 - accuracy: 0.9350\n",
            "Epoch 2/6\n",
            "1875/1875 [==============================] - 10s 6ms/step - loss: 0.0890 - accuracy: 0.9726\n",
            "Epoch 3/6\n",
            "1875/1875 [==============================] - 10s 5ms/step - loss: 0.0587 - accuracy: 0.9813\n",
            "Epoch 4/6\n",
            "1875/1875 [==============================] - 10s 5ms/step - loss: 0.0444 - accuracy: 0.9861\n",
            "Epoch 5/6\n",
            "1875/1875 [==============================] - 10s 5ms/step - loss: 0.0334 - accuracy: 0.9889\n",
            "Epoch 6/6\n",
            "1875/1875 [==============================] - 10s 5ms/step - loss: 0.0276 - accuracy: 0.9912\n",
            "313/313 [==============================] - 1s 2ms/step - loss: 0.1026 - accuracy: 0.9736\n",
            "3\n",
            "0.9735999703407288 0.10257107019424438\n",
            "Epoch 1/6\n",
            "1875/1875 [==============================] - 10s 5ms/step - loss: 0.2120 - accuracy: 0.9358\n",
            "Epoch 2/6\n",
            "1875/1875 [==============================] - 10s 5ms/step - loss: 0.0875 - accuracy: 0.9728\n",
            "Epoch 3/6\n",
            "1875/1875 [==============================] - 10s 5ms/step - loss: 0.0617 - accuracy: 0.9809\n",
            "Epoch 4/6\n",
            "1875/1875 [==============================] - 11s 6ms/step - loss: 0.0437 - accuracy: 0.9865\n",
            "Epoch 5/6\n",
            "1875/1875 [==============================] - 10s 6ms/step - loss: 0.0354 - accuracy: 0.9883\n",
            "Epoch 6/6\n",
            "1875/1875 [==============================] - 11s 6ms/step - loss: 0.0284 - accuracy: 0.9905\n",
            "313/313 [==============================] - 1s 2ms/step - loss: 0.1004 - accuracy: 0.9752\n",
            "4\n",
            "0.9751999974250793 0.10036513954401016\n",
            "Epoch 1/6\n",
            "1875/1875 [==============================] - 10s 5ms/step - loss: 0.2135 - accuracy: 0.9356\n",
            "Epoch 2/6\n",
            "1875/1875 [==============================] - 10s 5ms/step - loss: 0.0918 - accuracy: 0.9715\n",
            "Epoch 3/6\n",
            "1875/1875 [==============================] - 10s 5ms/step - loss: 0.0614 - accuracy: 0.9809\n",
            "Epoch 4/6\n",
            "1875/1875 [==============================] - 10s 5ms/step - loss: 0.0463 - accuracy: 0.9858\n",
            "Epoch 5/6\n",
            "1875/1875 [==============================] - 10s 5ms/step - loss: 0.0365 - accuracy: 0.9887\n",
            "Epoch 6/6\n",
            "1875/1875 [==============================] - 11s 6ms/step - loss: 0.0280 - accuracy: 0.9908\n",
            "313/313 [==============================] - 1s 2ms/step - loss: 0.0827 - accuracy: 0.9776\n",
            "5\n",
            "0.9775999784469604 0.08267968893051147\n",
            "Epoch 1/6\n",
            "1875/1875 [==============================] - 10s 6ms/step - loss: 0.2111 - accuracy: 0.9362\n",
            "Epoch 2/6\n",
            "1875/1875 [==============================] - 10s 5ms/step - loss: 0.0878 - accuracy: 0.9727\n",
            "Epoch 3/6\n",
            "1875/1875 [==============================] - 10s 5ms/step - loss: 0.0596 - accuracy: 0.9813\n",
            "Epoch 4/6\n",
            "1875/1875 [==============================] - 10s 5ms/step - loss: 0.0439 - accuracy: 0.9862\n",
            "Epoch 5/6\n",
            "1875/1875 [==============================] - 10s 5ms/step - loss: 0.0349 - accuracy: 0.9885\n",
            "Epoch 6/6\n",
            "1875/1875 [==============================] - 10s 5ms/step - loss: 0.0284 - accuracy: 0.9914\n",
            "313/313 [==============================] - 1s 2ms/step - loss: 0.0998 - accuracy: 0.9748\n",
            "6\n",
            "0.9747999906539917 0.09982077777385712\n",
            "Epoch 1/6\n",
            "1875/1875 [==============================] - 10s 5ms/step - loss: 0.2107 - accuracy: 0.9356\n",
            "Epoch 2/6\n",
            "1875/1875 [==============================] - 10s 5ms/step - loss: 0.0890 - accuracy: 0.9729\n",
            "Epoch 3/6\n",
            "1875/1875 [==============================] - 10s 5ms/step - loss: 0.0619 - accuracy: 0.9806\n",
            "Epoch 4/6\n",
            "1875/1875 [==============================] - 10s 6ms/step - loss: 0.0451 - accuracy: 0.9856\n",
            "Epoch 5/6\n",
            "1875/1875 [==============================] - 10s 6ms/step - loss: 0.0352 - accuracy: 0.9887\n",
            "Epoch 6/6\n",
            "1875/1875 [==============================] - 10s 5ms/step - loss: 0.0300 - accuracy: 0.9902\n",
            "313/313 [==============================] - 1s 2ms/step - loss: 0.0915 - accuracy: 0.9771\n",
            "7\n",
            "0.9771000146865845 0.09145132452249527\n",
            "Epoch 1/6\n",
            "1875/1875 [==============================] - 10s 5ms/step - loss: 0.2138 - accuracy: 0.9363\n",
            "Epoch 2/6\n",
            "1875/1875 [==============================] - 10s 6ms/step - loss: 0.0893 - accuracy: 0.9728\n",
            "Epoch 3/6\n",
            "1875/1875 [==============================] - 10s 6ms/step - loss: 0.0607 - accuracy: 0.9812\n",
            "Epoch 4/6\n",
            "1875/1875 [==============================] - 10s 5ms/step - loss: 0.0442 - accuracy: 0.9854\n",
            "Epoch 5/6\n",
            "1875/1875 [==============================] - 10s 6ms/step - loss: 0.0355 - accuracy: 0.9888\n",
            "Epoch 6/6\n",
            "1875/1875 [==============================] - 10s 5ms/step - loss: 0.0276 - accuracy: 0.9912\n",
            "313/313 [==============================] - 1s 2ms/step - loss: 0.0942 - accuracy: 0.9771\n",
            "8\n",
            "0.9771000146865845 0.09415452927350998\n",
            "Epoch 1/6\n",
            "1875/1875 [==============================] - 10s 5ms/step - loss: 0.2129 - accuracy: 0.9349\n",
            "Epoch 2/6\n",
            "1875/1875 [==============================] - 10s 5ms/step - loss: 0.0897 - accuracy: 0.9725\n",
            "Epoch 3/6\n",
            "1875/1875 [==============================] - 13s 7ms/step - loss: 0.0603 - accuracy: 0.9810\n",
            "Epoch 4/6\n",
            "1875/1875 [==============================] - 10s 5ms/step - loss: 0.0433 - accuracy: 0.9858\n",
            "Epoch 5/6\n",
            "1875/1875 [==============================] - 11s 6ms/step - loss: 0.0349 - accuracy: 0.9886\n",
            "Epoch 6/6\n",
            "  94/1875 [>.............................] - ETA: 10s - loss: 0.0303 - accuracy: 0.9920"
          ],
          "name": "stdout"
        }
      ]
    },
    {
      "cell_type": "code",
      "metadata": {
        "id": "HaiRGCj7MLJd",
        "colab_type": "code",
        "colab": {}
      },
      "source": [
        ""
      ],
      "execution_count": 0,
      "outputs": []
    }
  ]
}